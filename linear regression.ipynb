{
 "cells": [
  {
   "cell_type": "code",
   "execution_count": 2,
   "metadata": {},
   "outputs": [],
   "source": [
    "import numpy as np\n",
    "import matplotlib./[pyplot]"
   ]
  },
  {
   "cell_type": "code",
   "execution_count": 3,
   "metadata": {},
   "outputs": [],
   "source": [
    "def linear(x,a,b):\n",
    "    return x*a + b\n",
    "\n",
    "def update(a,b,result):\n",
    "    pass\n",
    "\n",
    "def min(data,a,b):\n",
    "    rootSqr= []\n",
    "    for i in range(len(data)):\n",
    "        rootSqr.append((data[1,i]- (linear(data[0,i],a,b)))**2)\n",
    "    MSE = (1/len(data) )* np.sum(rootSqr)\n",
    "    return MSE\n",
    "\n",
    "def genererate_dataset(x,):\n",
    "    noise = np.random.normal(loc = 0,scale = 2,size =len(x))\n",
    "    return (5*x) +2\n",
    "    \n",
    "    "
   ]
  },
  {
   "cell_type": "code",
   "execution_count": 10,
   "metadata": {},
   "outputs": [
    {
     "name": "stdout",
     "output_type": "stream",
     "text": [
      "3 2\n"
     ]
    }
   ],
   "source": [
    "a = np.random.randint(1,6)\n",
    "b = np.random.randint(1,6)\n",
    "x = np.linspace(0,10,100)\n",
    "print(a,b)\n"
   ]
  },
  {
   "cell_type": "code",
   "execution_count": null,
   "metadata": {},
   "outputs": [],
   "source": []
  }
 ],
 "metadata": {
  "kernelspec": {
   "display_name": "base",
   "language": "python",
   "name": "python3"
  },
  "language_info": {
   "codemirror_mode": {
    "name": "ipython",
    "version": 3
   },
   "file_extension": ".py",
   "mimetype": "text/x-python",
   "name": "python",
   "nbconvert_exporter": "python",
   "pygments_lexer": "ipython3",
   "version": "3.11.5"
  }
 },
 "nbformat": 4,
 "nbformat_minor": 2
}
