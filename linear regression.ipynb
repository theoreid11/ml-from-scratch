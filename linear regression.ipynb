{
 "cells": [
  {
   "cell_type": "code",
   "execution_count": 2,
   "metadata": {},
   "outputs": [],
   "source": [
    "import numpy as np\n",
    "import matplotlib.pyplot as plt"
   ]
  },
  {
   "cell_type": "code",
   "execution_count": 211,
   "metadata": {},
   "outputs": [],
   "source": [
    "def linear(x,a,b):\n",
    "    \"\"\" linear function\n",
    "\n",
    "    Args:\n",
    "        x (arr): ipuut array\n",
    "        a (float): 1st order parameter\n",
    "        b (_float): 0th order parameter ie constant\n",
    "\n",
    "    Returns:\n",
    "        arr: returns array of linear evaluated X \n",
    "    \"\"\"\n",
    "    return x*a + b\n",
    "\n",
    "\n",
    "\n",
    "def mse(data,a,b):\n",
    "    \n",
    "    rootSqr = ((data[1]- (linear(data[0],a,b)))**2)\n",
    "    MSE = np.mean(rootSqr)\n",
    "    return MSE\n",
    "\n",
    "def update(param,raised,minim,lr):\n",
    "    \"\"\"    A primitive update function to minimise MSE. Checks wherher change in param increases or decreases MSE.\n",
    "\n",
    "\n",
    "    Args:\n",
    "        param (float): parameter to be updated\n",
    "        raised (Bool): Check whether param has been increased or decreasd\n",
    "        minim (Bool): Check whether MSE was decreased\n",
    "        lr (float): learning rate\n",
    "\n",
    "    Returns:\n",
    "        _type_: _description_\n",
    "    \"\"\"\n",
    "    if (raised and minim) or (not raised and not minim):\n",
    "        param += lr\n",
    "        raised = True\n",
    "        return param, raised\n",
    "    else: \n",
    "        param -= lr\n",
    "        raised = False\n",
    "        return param,raised\n",
    "    \n",
    "def gradients(a,b,data):\n",
    "    \n",
    "    \"\"\"     \n",
    "    gradient descent , calculates partial derivatives of MSE wrt parameters. Could replace manual update function \n",
    "    \n",
    "    \"\"\"\n",
    "\n",
    "    da = (2/len(data))* np.sum(linear(data[0],a,b) -data[1])*data[0] # d(MSE )/da partial derivative MSE wrt. a\n",
    "    db = (2/len(data))* np.sum(linear(data[0],a,b) -data[1])          # d(MSE )/db partial derivative MSE wrt. b\n",
    "        \n",
    "def genererate_dataset(x):\n",
    "    \"\"\" generate a linear dataset with Gaussian noise \n",
    "\n",
    "    Args:\n",
    "        x (array): input data\n",
    "\n",
    "    Returns:\n",
    "        array: generated  data set with noise\n",
    "    \"\"\"\n",
    "    noise = np.random.normal(loc = 0,scale = 5,size =x.shape)\n",
    "    return (5*x) +2 + noise\n",
    "    \n",
    "    "
   ]
  },
  {
   "cell_type": "code",
   "execution_count": 212,
   "metadata": {},
   "outputs": [],
   "source": [
    "\n",
    "a0 = (np.random.rand(1)*100)[0]\n",
    "b0= (np.random.rand(1)*100)[0]\n",
    "x = np.linspace(0,10,100)\n",
    "data = [x,genererate_dataset(x)]\n"
   ]
  },
  {
   "cell_type": "code",
   "execution_count": 213,
   "metadata": {},
   "outputs": [
    {
     "data": {
      "text/plain": [
       "1.2048706903639017"
      ]
     },
     "execution_count": 213,
     "metadata": {},
     "output_type": "execute_result"
    }
   ],
   "source": [
    "a0"
   ]
  },
  {
   "cell_type": "code",
   "execution_count": null,
   "metadata": {},
   "outputs": [],
   "source": []
  },
  {
   "cell_type": "code",
   "execution_count": 214,
   "metadata": {},
   "outputs": [
    {
     "data": {
      "text/plain": [
       "<matplotlib.collections.PathCollection at 0x13a4de350>"
      ]
     },
     "execution_count": 214,
     "metadata": {},
     "output_type": "execute_result"
    },
    {
     "data": {
      "image/png": "[encoded data removed]",
      "text/plain": [
       "<Figure size 640x480 with 1 Axes>"
      ]
     },
     "metadata": {},
     "output_type": "display_data"
    }
   ],
   "source": [
    "plt.scatter(data[0], data[1] ,s = 0.2)"
   ]
  },
  {
   "cell_type": "code",
   "execution_count": 215,
   "metadata": {},
   "outputs": [
    {
     "data": {
      "text/plain": [
       "293.32570403990593"
      ]
     },
     "execution_count": 215,
     "metadata": {},
     "output_type": "execute_result"
    }
   ],
   "source": [
    "MSE = [mse(data,a0,b0)]\n",
    "MSE[0]"
   ]
  },
  {
   "cell_type": "code",
   "execution_count": 216,
   "metadata": {},
   "outputs": [
    {
     "name": "stdout",
     "output_type": "stream",
     "text": [
      "24.209408193444087\n"
     ]
    }
   ],
   "source": [
    "#parameters\n",
    "epochs = 10000\n",
    "lr = 0.1 # learning rate\n",
    "minim_a = True\n",
    "raised_a = True\n",
    "minim_b = True\n",
    "raised_b = True\n",
    "a = [a0]\n",
    "b = [b0]\n",
    "\n",
    "for i in range(1,epochs):\n",
    "    if i %100 == 0:   # reduce learning rate every 100 iterations\n",
    "        lr = lr/1.1\n",
    "    mse_0 = mse(data,a0,b0)                           #initial mean squared error\n",
    "    \n",
    "    \n",
    "    # update params to minimise mean squared error\n",
    "    a1, raised_a  = update(a0,minim_a,raised_a, lr)\n",
    "    if mse(data,a1,b0) <= mse_0:\n",
    "        minim_a = True\n",
    "    else: minim_a = False\n",
    "    \n",
    "    b1,raised_b  = update(b0,minim_b,raised_b, lr)\n",
    "    if mse(data,a0,b1) <= mse_0:\n",
    "        minim_b = True\n",
    "    else: minim_b = False\n",
    "    \n",
    "    # save  parameters and mse i neach iteration\n",
    "    MSE.append(mse(data,a1,b1))\n",
    "    a.append(a1)\n",
    "    b.append(b1)\n",
    "    a0 = a1\n",
    "    b0 = b1\n",
    "\n",
    "print(min(MSE))"
   ]
  },
  {
   "cell_type": "code",
   "execution_count": 217,
   "metadata": {},
   "outputs": [
    {
     "data": {
      "text/plain": [
       "[<matplotlib.lines.Line2D at 0x13a539a10>]"
      ]
     },
     "execution_count": 217,
     "metadata": {},
     "output_type": "execute_result"
    },
    {
     "data": {
      "image/png": "[encoded data removed]",
      "text/plain": [
       "<Figure size 640x480 with 1 Axes>"
      ]
     },
     "metadata": {},
     "output_type": "display_data"
    }
   ],
   "source": [
    "plt.plot(np.arange(0,epochs),MSE)"
   ]
  },
  {
   "cell_type": "code",
   "execution_count": 218,
   "metadata": {},
   "outputs": [
    {
     "name": "stdout",
     "output_type": "stream",
     "text": [
      "Learned a: 4.78, True a: 5\n",
      "Learned b: 2.92, True b: 2\n"
     ]
    }
   ],
   "source": [
    "print(f\"Learned a: {a[-1]:.2f}, True a: 5\")\n",
    "print(f\"Learned b: {b[-1]:.2f}, True b: 2\")"
   ]
  },
  {
   "cell_type": "code",
   "execution_count": null,
   "metadata": {},
   "outputs": [],
   "source": []
  },
  {
   "cell_type": "code",
   "execution_count": null,
   "metadata": {},
   "outputs": [],
   "source": []
  }
 ],
 "metadata": {
  "kernelspec": {
   "display_name": "base",
   "language": "python",
   "name": "python3"
  },
  "language_info": {
   "codemirror_mode": {
    "name": "ipython",
    "version": 3
   },
   "file_extension": ".py",
   "mimetype": "text/x-python",
   "name": "python",
   "nbconvert_exporter": "python",
   "pygments_lexer": "ipython3",
   "version": "3.11.5"
  }
 },
 "nbformat": 4,
 "nbformat_minor": 2
}
