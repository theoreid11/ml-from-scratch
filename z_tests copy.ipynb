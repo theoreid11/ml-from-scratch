{
 "cells": [
  {
   "cell_type": "code",
   "execution_count": 1,
   "metadata": {},
   "outputs": [],
   "source": [
    "import math\n",
    "from scipy.stats import norm\n",
    "import matplotlib.pyplot as plt\n",
    "import numpy as np"
   ]
  },
  {
   "cell_type": "code",
   "execution_count": 2,
   "metadata": {},
   "outputs": [],
   "source": [
    "def two_proportions_z_test(x1, n1, x2, n2):\n",
    "    \"\"\"\n",
    "    Returns the z-statistic and two-sided p-value for a two-proportion z-test.\n",
    "    \"\"\"\n",
    "    # Sample proportions\n",
    "    p1 = x1 / n1\n",
    "    p2 = x2 / n2\n",
    "    \n",
    "    # Pooled proportion\n",
    "    p_pool = (x1 + x2) / (n1 + n2)\n",
    "    \n",
    "    # Difference in proportions\n",
    "    diff = p2 - p1\n",
    "    \n",
    "    # Standard error under H0 (p1 = p2)\n",
    "    se = math.sqrt(p_pool * (1 - p_pool) * (1 / n1 + 1 / n2))\n",
    "    \n",
    "    # z-statistic\n",
    "    z_stat = diff / se\n",
    "    \n",
    "    # two-sided p-value\n",
    "    p_value = 2 * (1 - norm.cdf(abs(z_stat)))\n",
    "    \n",
    "    return z_stat, p_value\n",
    "\n",
    "\n"
   ]
  },
  {
   "cell_type": "code",
   "execution_count": 10,
   "metadata": {},
   "outputs": [
    {
     "name": "stdout",
     "output_type": "stream",
     "text": [
      "Z-statistic: 0.7343\n",
      "P-value: 0.462783\n"
     ]
    }
   ],
   "source": [
    "\n",
    "x1, n1 =  9938,22510\n",
    "x2, n2 = 361, 794 \n",
    "p1 =None # 0.11\n",
    "\n",
    "p2 =None #0.094\n",
    "if p1 is not None:\n",
    "    n1 = x1 * 1/p1\n",
    "if p2 is not None :\n",
    "    n2 = x2 * 1/p2 \n",
    "    \n",
    "\n",
    "z, p = two_proportions_z_test(x1, n1, x2, n2)\n",
    "print(f\"Z-statistic: {z:.4f}\")\n",
    "print(f\"P-value: {p:.6f}\")\n"
   ]
  },
  {
   "cell_type": "code",
   "execution_count": 14,
   "metadata": {},
   "outputs": [
    {
     "data": {
      "text/plain": [
       "0.41000000000000003"
      ]
     },
     "execution_count": 14,
     "metadata": {},
     "output_type": "execute_result"
    }
   ],
   "source": []
  },
  {
   "cell_type": "code",
   "execution_count": null,
   "metadata": {},
   "outputs": [],
   "source": []
  }
 ],
 "metadata": {
  "kernelspec": {
   "display_name": "base",
   "language": "python",
   "name": "python3"
  },
  "language_info": {
   "codemirror_mode": {
    "name": "ipython",
    "version": 3
   },
   "file_extension": ".py",
   "mimetype": "text/x-python",
   "name": "python",
   "nbconvert_exporter": "python",
   "pygments_lexer": "ipython3",
   "version": "3.11.5"
  }
 },
 "nbformat": 4,
 "nbformat_minor": 2
}
