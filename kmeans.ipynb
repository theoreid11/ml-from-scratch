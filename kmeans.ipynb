{
 "cells": [
  {
   "cell_type": "code",
   "execution_count": 3,
   "metadata": {},
   "outputs": [],
   "source": [
    "import numpy as np\n",
    "from sklearn.datasets import load_iris\n",
    "import matplotlib.pyplot as plt\n",
    " b "
   ]
  },
  {
   "cell_type": "code",
   "execution_count": 202,
   "metadata": {},
   "outputs": [],
   "source": [
    "def batch_update():\n",
    "    pass\n",
    "def update_centroids(data,centroids):\n",
    "    distances = np.zeros((150,len(centroids)))\n",
    "    for i in range(len(centroids)):\n",
    "        distances[:,i] = np.sqrt(np.abs((data[:,0]-centroids[i][0])**2 - (data[:,1]-centroids[i][1])**2))\n",
    "    closest_ind = np.argmin(distances,axis = 1)\n",
    "    \n",
    "    unique_clusters = np.unique(closest_ind)\n",
    "    cluster_means = {}\n",
    "    for cluster in unique_clusters:\n",
    "        \n",
    "        cluster_means[cluster] = np.mean(data[closest_ind == cluster],axis = 0)\n",
    "    centroids = np.array(list(cluster_means.values()))\n",
    "    return centroids,closest_ind\n",
    "    \n",
    " \n",
    "\n",
    "\n",
    "def assign_centroids(n_clusters,data):\n",
    "    centroid_index = np.random.randint(0,len(data),n_clusters)\n",
    "    centroids = np.zeros((n_clusters,2))\n",
    "    for i in range(n_clusters):\n",
    "        centroids[i] = data[centroid_index[i]]\n",
    "    \n",
    "    return centroids\n"
   ]
  },
  {
   "cell_type": "code",
   "execution_count": 203,
   "metadata": {},
   "outputs": [],
   "source": [
    "iris = load_iris()\n",
    "X = iris.data[:, 2:4]  # Petal length and petal width"
   ]
  },
  {
   "cell_type": "code",
   "execution_count": 204,
   "metadata": {},
   "outputs": [
    {
     "name": "stderr",
     "output_type": "stream",
     "text": [
      "C:\\Users\\theoi\\AppData\\Local\\Temp\\ipykernel_18352\\2395464414.py:1: UserWarning: No data for colormapping provided via 'c'. Parameters 'cmap' will be ignored\n",
      "  plt.scatter(X[:, 0], X[:, 1], cmap='viridis', s=50)\n"
     ]
    },
    {
     "data": {
      "text/plain": [
       "<matplotlib.collections.PathCollection at 0x1e7524bd1e0>"
      ]
     },
     "execution_count": 204,
     "metadata": {},
     "output_type": "execute_result"
    },
    {
     "data": {
      "image/png": "[encoded data removed]",
      "text/plain": [
       "<Figure size 640x480 with 1 Axes>"
      ]
     },
     "metadata": {},
     "output_type": "display_data"
    }
   ],
   "source": [
    "plt.scatter(X[:, 0], X[:, 1], cmap='viridis', s=50)\n"
   ]
  },
  {
   "cell_type": "code",
   "execution_count": 205,
   "metadata": {},
   "outputs": [],
   "source": [
    "n_clusters = 8"
   ]
  },
  {
   "cell_type": "code",
   "execution_count": 216,
   "metadata": {},
   "outputs": [],
   "source": [
    "centroids = assign_centroids(n_clusters, X)\n"
   ]
  },
  {
   "cell_type": "code",
   "execution_count": 217,
   "metadata": {},
   "outputs": [
    {
     "name": "stdout",
     "output_type": "stream",
     "text": [
      "[[1.39210526 0.22894737]\n",
      " [4.11142857 1.31142857]\n",
      " [4.96060606 1.72424242]\n",
      " [1.78461538 0.36153846]\n",
      " [5.616      2.052     ]\n",
      " [6.6        2.06666667]]\n"
     ]
    }
   ],
   "source": [
    "for i in range(1000):\n",
    "    centroids,cluster_ind = update_centroids(X,centroids)\n",
    "    \n",
    "print(centroids)"
   ]
  },
  {
   "cell_type": "code",
   "execution_count": 218,
   "metadata": {},
   "outputs": [
    {
     "name": "stdout",
     "output_type": "stream",
     "text": [
      "[0 0 0 0 0 3 0 0 0 0 0 3 0 0 0 0 0 0 3 0 3 0 0 3 3 3 0 0 0 3 3 0 0 0 0 0 0\n",
      " 0 0 0 0 0 0 3 3 0 3 0 0 0 2 1 2 1 2 2 2 1 2 1 1 1 1 2 1 1 1 1 1 1 2 1 2 4\n",
      " 1 1 2 2 1 1 1 1 1 2 1 1 2 1 1 1 2 2 1 1 1 1 1 1 3 1 4 2 4 4 4 5 1 5 4 4 2\n",
      " 2 4 2 4 4 4 5 5 2 4 2 5 2 4 4 2 2 4 4 4 5 4 4 2 4 2 4 2 4 2 1 2 4 2 4 2 2\n",
      " 4 2]\n"
     ]
    }
   ],
   "source": [
    "print(cluster_ind)"
   ]
  },
  {
   "cell_type": "code",
   "execution_count": 93,
   "metadata": {},
   "outputs": [
    {
     "data": {
      "text/plain": [
       "array([dict_values([(1.4, 0.2), (1.5, 0.2), (1.4, 0.3), (3.0, 1.1), (5.1, 1.8), (5.7, 2.5), (5.2, 2.3)])],\n",
       "      dtype=object)"
      ]
     },
     "execution_count": 93,
     "metadata": {},
     "output_type": "execute_result"
    }
   ],
   "source": []
  },
  {
   "cell_type": "code",
   "execution_count": 51,
   "metadata": {},
   "outputs": [
    {
     "data": {
      "text/plain": [
       "(5, 6, 7)"
      ]
     },
     "execution_count": 51,
     "metadata": {},
     "output_type": "execute_result"
    }
   ],
   "source": []
  },
  {
   "cell_type": "code",
   "execution_count": null,
   "metadata": {},
   "outputs": [],
   "source": []
  }
 ],
 "metadata": {
  "kernelspec": {
   "display_name": "Python 3",
   "language": "python",
   "name": "python3"
  },
  "language_info": {
   "codemirror_mode": {
    "name": "ipython",
    "version": 3
   },
   "file_extension": ".py",
   "mimetype": "text/x-python",
   "name": "python",
   "nbconvert_exporter": "python",
   "pygments_lexer": "ipython3",
   "version": "3.10.11"
  }
 },
 "nbformat": 4,
 "nbformat_minor": 2
}
